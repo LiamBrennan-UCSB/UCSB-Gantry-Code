{
 "cells": [
  {
   "cell_type": "code",
   "execution_count": 137,
   "id": "b131633c",
   "metadata": {},
   "outputs": [
    {
     "name": "stdout",
     "output_type": "stream",
     "text": [
      "The autoreload extension is already loaded. To reload it, use:\n",
      "  %reload_ext autoreload\n",
      "/Users/lbrennan/Desktop/Research/Coding/FiducialsQC-master\n"
     ]
    }
   ],
   "source": [
    "%load_ext autoreload\n",
    "import os\n",
    "workDir = os.getcwd()\n",
    "user = 'testID' #CERN user ID\n",
    "institution = 'UCSB' #UCSB\n",
    "print(workDir)"
   ]
  },
  {
   "cell_type": "code",
   "execution_count": 138,
   "id": "b7bc9a7b",
   "metadata": {},
   "outputs": [
    {
     "name": "stdout",
     "output_type": "stream",
     "text": [
      "     Unnamed: 0 Unnamed: 1              Unnamed: 2 Unnamed: 3 Unnamed: 4  \\\n",
      "3           NaN   Routine1                  mm  Ɵ°        NaN        NaN   \n",
      "6           NaN        NaN                 Feature  Attribute    Nominal   \n",
      "7           NaN        NaN           SensorCorner1          X    129.480   \n",
      "8           NaN        NaN                     NaN          Y    352.284   \n",
      "9           NaN        NaN                     NaN          Z      1.583   \n",
      "..          ...        ...                     ...        ...        ...   \n",
      "147         NaN        NaN  ProtomoduleThickness25          X    138.267   \n",
      "148         NaN        NaN                     NaN          Y    265.346   \n",
      "149         NaN        NaN                     NaN          Z      1.743   \n",
      "152         NaN        NaN               Attribute     Actual        NaN   \n",
      "153         NaN        NaN                   $PMID    LDV3D12        NaN   \n",
      "\n",
      "    Unnamed: 5  Unnamed: 6  Unnamed: 7 Unnamed: 8  \n",
      "3          NaN         NaN         NaN        NaN  \n",
      "6       Actual  Upper Tol.  Lower Tol.   Graphics  \n",
      "7      129.480       0.000       0.000        NaN  \n",
      "8      352.284       0.000       0.000        NaN  \n",
      "9        1.583       0.000       0.000        NaN  \n",
      "..         ...         ...         ...        ...  \n",
      "147    138.269       0.000       0.000        NaN  \n",
      "148    265.348       0.000       0.000        NaN  \n",
      "149      1.612       0.000       0.000        NaN  \n",
      "152        NaN         NaN         NaN        NaN  \n",
      "153        NaN         NaN         NaN        NaN  \n",
      "\n",
      "[91 rows x 9 columns]\n"
     ]
    }
   ],
   "source": [
    "%run utils/GetExcel.ipynb\n",
    "\n",
    "#The sensor file can contain the fiducials of the sensor, but can also have the \n",
    "#component heights for sensor in location P1 or P2.\n",
    "#Methods can run either way! \n",
    "\n",
    "#pcbfile = workDir + '/data/some-PCB-file.xls'\n",
    "pcbfile = workDir + '/data/LDV3D12_protomodule.xls'\n",
    "fiducialfile = workDir + '/data/GantryTrayFiducialData.xls'\n",
    "sensorfile = workDir + '/data/LDV3D12_protomodule.xls'\n",
    "#sensorfile = workDir + '/data/sensorfiducialtrialrun.xls'\n",
    "#surveyfile = workDir + '/data/alethea test.xls'\n",
    "surveyfile = workDir + '/data/LDV3D12_protomodule.xls'\n",
    "\n",
    "\n",
    "survey = GetExcel(surveyfile)\n",
    "survey.read()\n",
    "print(survey.df)\n",
    "\n",
    "sensor = GetExcel(sensorfile)\n",
    "sensor.read()\n",
    "#print(sensor.df.tail())\n",
    "\n",
    "fiducial = GetExcel(fiducialfile)\n",
    "fiducial.read()\n",
    "#print(fiducial.df.head())\n",
    "\n",
    "pcb = GetExcel(pcbfile)\n",
    "pcb.read()\n",
    "#print(pcb.df.head())"
   ]
  },
  {
   "cell_type": "code",
   "execution_count": 139,
   "id": "c93dd7a0",
   "metadata": {},
   "outputs": [
    {
     "name": "stdout",
     "output_type": "stream",
     "text": [
      "<bound method ReadDataframe.readComponentHeights of <__main__.ReadDataframe object at 0x7fb5fa43f5b0>>\n"
     ]
    }
   ],
   "source": [
    "%run utils/ReadDataframe.ipynb\n",
    "%autoreload 2\n",
    "\n",
    "if sensor.exists:\n",
    "    senDF = ReadDataframe(sensor.df, sensorfile)\n",
    "    senDF.readComponentFiducials()\n",
    "    senDF.readComponentHeights()\n",
    "    print(senDF.readComponentHeights)\n",
    "\n",
    "if fiducial.exists:\n",
    "    fidDF = ReadDataframe(fiducial.df, fiducialfile)\n",
    "    fidDF.readTrayFiducials()\n",
    "\n",
    "if pcb.exists:\n",
    "    pcbDF = ReadDataframe(pcb.df, pcbfile)\n",
    "    pcbDF.readComponentFiducials()\n",
    "    pcbDF.readComponentHeights()\n",
    "    \n",
    "if survey.exists:\n",
    "    surveyDF = ReadDataframe(survey.df, surveyfile)\n",
    "    surveyDF.readComponentHeights()"
   ]
  },
  {
   "cell_type": "code",
   "execution_count": 140,
   "id": "a31fbdbd",
   "metadata": {},
   "outputs": [
    {
     "name": "stdout",
     "output_type": "stream",
     "text": [
      "\u001b[30mThe module/component in P1 has completed QC!\n",
      "\n",
      "The FINAL rating of the module in position P1 is \u001b[35mNO INFO\u001b[30m.\n",
      "\n",
      "\u001b[30mThe module/component in P2 has completed QC!\n",
      "\n",
      "The FINAL rating of the module in position P2 is \u001b[35mNO INFO\u001b[30m.\n",
      "\n",
      "\u001b[30mThe module/component in P1 has completed QC!\n",
      "\n",
      "The FINAL rating of the module in position P1 is \u001b[35mNO INFO\u001b[30m.\n",
      "\n",
      "\u001b[30mThe module/component in P2 has completed QC!\n",
      "\n",
      "The FINAL rating of the module in position P2 is \u001b[35mNO INFO\u001b[30m.\n",
      "\n"
     ]
    }
   ],
   "source": [
    "%run utils/QualityControlLiam.ipynb\n",
    "%autoreload 2\n",
    "\n",
    "if sensor.exists:\n",
    "    sensorP1 = QualityControlLiam(fidDF, senDF, 'P1', False)\n",
    "    if len(senDF.pointsP1): sensorP1.runTransform()\n",
    "    #if len(senDF.heightP1): sensorP1.runHeights()\n",
    "    #LiamTest.RotationalOffset(self,distance)\n",
    "    sensorP1.rating()\n",
    "    print(sensorP1)\n",
    "\n",
    "    sensorP2 = QualityControlLiam(fidDF, senDF, 'P2', False)\n",
    "    if len(senDF.pointsP2): sensorP2.runTransform()\n",
    "    #if len(senDF.heightP2): sensorP2.runHeights()\n",
    "    sensorP2.rating()\n",
    "    print(sensorP2)\n",
    "    \n",
    "if pcb.exists:\n",
    "    pcbP1 = QualityControlLiam(fidDF, pcbDF, 'P1', True)\n",
    "    if len(pcbDF.pointsP1): pcbP1.runTransform()\n",
    "    #if len(pcbDF.heightP1): pcbP1.runHeights()\n",
    "    pcbP1.rating()\n",
    "    print(pcbP1)\n",
    "\n",
    "    pcbP2 = QualityControlLiam(fidDF, pcbDF, 'P2', True)\n",
    "    if len(pcbDF.pointsP2): pcbP2.runTransform()\n",
    "    #if len(pcbDF.heightP2): pcbP2.runHeights()\n",
    "    pcbP2.rating()\n",
    "    print(pcbP2)\n",
    "    \n",
    "if survey.exists:\n",
    "    surveyComp = QualityControl(fidDF, surveyDF, 'Survey', False, True)\n",
    "    #if len(surveyDF.heightP1): surveyComp.runHeights()"
   ]
  },
  {
   "cell_type": "code",
   "execution_count": 141,
   "id": "fc917f93",
   "metadata": {},
   "outputs": [],
   "source": [
    "%run utils/CreateXML.ipynb\n",
    "%autoreload 2\n",
    "\n",
    "if sensor.exists:\n",
    "    if sensorP1.finalRating != 'NO INFO':\n",
    "        sensorP1XML = CreateXML(sensorP1, user, institution)\n",
    "        sensorP1XML.save(senDF.dir, senDF.name + '_P1.xml')\n",
    "\n",
    "    if sensorP2.finalRating != 'NO INFO':\n",
    "        sensorP2XML = CreateXML(sensorP2, user, institution)\n",
    "        sensorP2XML.save(senDF.dir, senDF.name + '_P2.xml')\n",
    "    \n",
    "if pcb.exists:\n",
    "    if pcbP1.finalRating != 'NO INFO':\n",
    "        pcbP1XML = CreateXML(pcbP1, user, institution)\n",
    "        pcbP1XML.save(pcbDF.dir, pcbDF.name + '_P1.xml')\n",
    "    \n",
    "    if pcbP2.finalRating != 'NO INFO':\n",
    "        pcbP2XML = CreateXML(pcbP2, user, institution)\n",
    "        pcbP2XML.save(pcbDF.dir, pcbDF.name + '_P2.xml')"
   ]
  },
  {
   "cell_type": "code",
   "execution_count": 142,
   "id": "2b57f28b",
   "metadata": {
    "scrolled": false
   },
   "outputs": [
    {
     "ename": "ModuleNotFoundError",
     "evalue": "No module named 'hexmap.plot_summary'",
     "output_type": "error",
     "traceback": [
      "\u001b[0;31m---------------------------------------------------------------------------\u001b[0m",
      "\u001b[0;31mModuleNotFoundError\u001b[0m                       Traceback (most recent call last)",
      "\u001b[0;32m~/Desktop/Research/Coding/FiducialsQC-master/utils/HeightPlotter.ipynb\u001b[0m in \u001b[0;36m<module>\u001b[0;34m\u001b[0m\n\u001b[1;32m      2\u001b[0m \u001b[0;32mimport\u001b[0m \u001b[0mos\u001b[0m\u001b[0;34m,\u001b[0m \u001b[0msys\u001b[0m\u001b[0;34m\u001b[0m\u001b[0;34m\u001b[0m\u001b[0m\n\u001b[1;32m      3\u001b[0m \u001b[0;32mimport\u001b[0m \u001b[0mnumpy\u001b[0m \u001b[0;32mas\u001b[0m \u001b[0mnp\u001b[0m\u001b[0;34m\u001b[0m\u001b[0;34m\u001b[0m\u001b[0m\n\u001b[0;32m----> 4\u001b[0;31m \u001b[0;32mfrom\u001b[0m \u001b[0mhexmap\u001b[0m\u001b[0;34m.\u001b[0m\u001b[0mplot_summary\u001b[0m \u001b[0;32mimport\u001b[0m \u001b[0;34m*\u001b[0m\u001b[0;34m\u001b[0m\u001b[0;34m\u001b[0m\u001b[0m\n\u001b[0m\u001b[1;32m      5\u001b[0m \u001b[0;34m\u001b[0m\u001b[0m\n\u001b[1;32m      6\u001b[0m \u001b[0;32mclass\u001b[0m \u001b[0mHeightPlotter\u001b[0m\u001b[0;34m:\u001b[0m\u001b[0;34m\u001b[0m\u001b[0;34m\u001b[0m\u001b[0m\n",
      "\u001b[0;31mModuleNotFoundError\u001b[0m: No module named 'hexmap.plot_summary'"
     ]
    },
    {
     "ename": "ModuleNotFoundError",
     "evalue": "No module named 'hexmap.plot_summary'",
     "output_type": "error",
     "traceback": [
      "\u001b[0;31m---------------------------------------------------------------------------\u001b[0m",
      "\u001b[0;31mModuleNotFoundError\u001b[0m                       Traceback (most recent call last)",
      "\u001b[0;32m/var/folders/74/vnxhv4vj1_db3p8d3kn4d6zw0000gn/T/ipykernel_60338/1880121166.py\u001b[0m in \u001b[0;36m<module>\u001b[0;34m\u001b[0m\n\u001b[0;32m----> 1\u001b[0;31m \u001b[0mget_ipython\u001b[0m\u001b[0;34m(\u001b[0m\u001b[0;34m)\u001b[0m\u001b[0;34m.\u001b[0m\u001b[0mrun_line_magic\u001b[0m\u001b[0;34m(\u001b[0m\u001b[0;34m'run'\u001b[0m\u001b[0;34m,\u001b[0m \u001b[0;34m'utils/HeightPlotter.ipynb'\u001b[0m\u001b[0;34m)\u001b[0m\u001b[0;34m\u001b[0m\u001b[0;34m\u001b[0m\u001b[0m\n\u001b[0m\u001b[1;32m      2\u001b[0m \u001b[0mget_ipython\u001b[0m\u001b[0;34m(\u001b[0m\u001b[0;34m)\u001b[0m\u001b[0;34m.\u001b[0m\u001b[0mrun_line_magic\u001b[0m\u001b[0;34m(\u001b[0m\u001b[0;34m'autoreload'\u001b[0m\u001b[0;34m,\u001b[0m \u001b[0;34m'2'\u001b[0m\u001b[0;34m)\u001b[0m\u001b[0;34m\u001b[0m\u001b[0;34m\u001b[0m\u001b[0m\n\u001b[1;32m      3\u001b[0m \u001b[0;34m\u001b[0m\u001b[0m\n\u001b[1;32m      4\u001b[0m \u001b[0;32mif\u001b[0m \u001b[0msensor\u001b[0m\u001b[0;34m.\u001b[0m\u001b[0mexists\u001b[0m\u001b[0;34m:\u001b[0m\u001b[0;34m\u001b[0m\u001b[0;34m\u001b[0m\u001b[0m\n\u001b[1;32m      5\u001b[0m     \u001b[0;32mif\u001b[0m \u001b[0mlen\u001b[0m\u001b[0;34m(\u001b[0m\u001b[0msensorP1\u001b[0m\u001b[0;34m.\u001b[0m\u001b[0mhgts\u001b[0m\u001b[0;34m)\u001b[0m\u001b[0;34m:\u001b[0m\u001b[0;34m\u001b[0m\u001b[0;34m\u001b[0m\u001b[0m\n",
      "\u001b[0;32m~/opt/anaconda3/lib/python3.9/site-packages/IPython/core/interactiveshell.py\u001b[0m in \u001b[0;36mrun_line_magic\u001b[0;34m(self, magic_name, line, _stack_depth)\u001b[0m\n\u001b[1;32m   2349\u001b[0m                 \u001b[0mkwargs\u001b[0m\u001b[0;34m[\u001b[0m\u001b[0;34m'local_ns'\u001b[0m\u001b[0;34m]\u001b[0m \u001b[0;34m=\u001b[0m \u001b[0mself\u001b[0m\u001b[0;34m.\u001b[0m\u001b[0mget_local_scope\u001b[0m\u001b[0;34m(\u001b[0m\u001b[0mstack_depth\u001b[0m\u001b[0;34m)\u001b[0m\u001b[0;34m\u001b[0m\u001b[0;34m\u001b[0m\u001b[0m\n\u001b[1;32m   2350\u001b[0m             \u001b[0;32mwith\u001b[0m \u001b[0mself\u001b[0m\u001b[0;34m.\u001b[0m\u001b[0mbuiltin_trap\u001b[0m\u001b[0;34m:\u001b[0m\u001b[0;34m\u001b[0m\u001b[0;34m\u001b[0m\u001b[0m\n\u001b[0;32m-> 2351\u001b[0;31m                 \u001b[0mresult\u001b[0m \u001b[0;34m=\u001b[0m \u001b[0mfn\u001b[0m\u001b[0;34m(\u001b[0m\u001b[0;34m*\u001b[0m\u001b[0margs\u001b[0m\u001b[0;34m,\u001b[0m \u001b[0;34m**\u001b[0m\u001b[0mkwargs\u001b[0m\u001b[0;34m)\u001b[0m\u001b[0;34m\u001b[0m\u001b[0;34m\u001b[0m\u001b[0m\n\u001b[0m\u001b[1;32m   2352\u001b[0m             \u001b[0;32mreturn\u001b[0m \u001b[0mresult\u001b[0m\u001b[0;34m\u001b[0m\u001b[0;34m\u001b[0m\u001b[0m\n\u001b[1;32m   2353\u001b[0m \u001b[0;34m\u001b[0m\u001b[0m\n",
      "\u001b[0;32m~/opt/anaconda3/lib/python3.9/site-packages/decorator.py\u001b[0m in \u001b[0;36mfun\u001b[0;34m(*args, **kw)\u001b[0m\n\u001b[1;32m    230\u001b[0m             \u001b[0;32mif\u001b[0m \u001b[0;32mnot\u001b[0m \u001b[0mkwsyntax\u001b[0m\u001b[0;34m:\u001b[0m\u001b[0;34m\u001b[0m\u001b[0;34m\u001b[0m\u001b[0m\n\u001b[1;32m    231\u001b[0m                 \u001b[0margs\u001b[0m\u001b[0;34m,\u001b[0m \u001b[0mkw\u001b[0m \u001b[0;34m=\u001b[0m \u001b[0mfix\u001b[0m\u001b[0;34m(\u001b[0m\u001b[0margs\u001b[0m\u001b[0;34m,\u001b[0m \u001b[0mkw\u001b[0m\u001b[0;34m,\u001b[0m \u001b[0msig\u001b[0m\u001b[0;34m)\u001b[0m\u001b[0;34m\u001b[0m\u001b[0;34m\u001b[0m\u001b[0m\n\u001b[0;32m--> 232\u001b[0;31m             \u001b[0;32mreturn\u001b[0m \u001b[0mcaller\u001b[0m\u001b[0;34m(\u001b[0m\u001b[0mfunc\u001b[0m\u001b[0;34m,\u001b[0m \u001b[0;34m*\u001b[0m\u001b[0;34m(\u001b[0m\u001b[0mextras\u001b[0m \u001b[0;34m+\u001b[0m \u001b[0margs\u001b[0m\u001b[0;34m)\u001b[0m\u001b[0;34m,\u001b[0m \u001b[0;34m**\u001b[0m\u001b[0mkw\u001b[0m\u001b[0;34m)\u001b[0m\u001b[0;34m\u001b[0m\u001b[0;34m\u001b[0m\u001b[0m\n\u001b[0m\u001b[1;32m    233\u001b[0m     \u001b[0mfun\u001b[0m\u001b[0;34m.\u001b[0m\u001b[0m__name__\u001b[0m \u001b[0;34m=\u001b[0m \u001b[0mfunc\u001b[0m\u001b[0;34m.\u001b[0m\u001b[0m__name__\u001b[0m\u001b[0;34m\u001b[0m\u001b[0;34m\u001b[0m\u001b[0m\n\u001b[1;32m    234\u001b[0m     \u001b[0mfun\u001b[0m\u001b[0;34m.\u001b[0m\u001b[0m__doc__\u001b[0m \u001b[0;34m=\u001b[0m \u001b[0mfunc\u001b[0m\u001b[0;34m.\u001b[0m\u001b[0m__doc__\u001b[0m\u001b[0;34m\u001b[0m\u001b[0;34m\u001b[0m\u001b[0m\n",
      "\u001b[0;32m~/opt/anaconda3/lib/python3.9/site-packages/IPython/core/magic.py\u001b[0m in \u001b[0;36m<lambda>\u001b[0;34m(f, *a, **k)\u001b[0m\n\u001b[1;32m    185\u001b[0m     \u001b[0;31m# but it's overkill for just that one bit of state.\u001b[0m\u001b[0;34m\u001b[0m\u001b[0;34m\u001b[0m\u001b[0m\n\u001b[1;32m    186\u001b[0m     \u001b[0;32mdef\u001b[0m \u001b[0mmagic_deco\u001b[0m\u001b[0;34m(\u001b[0m\u001b[0marg\u001b[0m\u001b[0;34m)\u001b[0m\u001b[0;34m:\u001b[0m\u001b[0;34m\u001b[0m\u001b[0;34m\u001b[0m\u001b[0m\n\u001b[0;32m--> 187\u001b[0;31m         \u001b[0mcall\u001b[0m \u001b[0;34m=\u001b[0m \u001b[0;32mlambda\u001b[0m \u001b[0mf\u001b[0m\u001b[0;34m,\u001b[0m \u001b[0;34m*\u001b[0m\u001b[0ma\u001b[0m\u001b[0;34m,\u001b[0m \u001b[0;34m**\u001b[0m\u001b[0mk\u001b[0m\u001b[0;34m:\u001b[0m \u001b[0mf\u001b[0m\u001b[0;34m(\u001b[0m\u001b[0;34m*\u001b[0m\u001b[0ma\u001b[0m\u001b[0;34m,\u001b[0m \u001b[0;34m**\u001b[0m\u001b[0mk\u001b[0m\u001b[0;34m)\u001b[0m\u001b[0;34m\u001b[0m\u001b[0;34m\u001b[0m\u001b[0m\n\u001b[0m\u001b[1;32m    188\u001b[0m \u001b[0;34m\u001b[0m\u001b[0m\n\u001b[1;32m    189\u001b[0m         \u001b[0;32mif\u001b[0m \u001b[0mcallable\u001b[0m\u001b[0;34m(\u001b[0m\u001b[0marg\u001b[0m\u001b[0;34m)\u001b[0m\u001b[0;34m:\u001b[0m\u001b[0;34m\u001b[0m\u001b[0;34m\u001b[0m\u001b[0m\n",
      "\u001b[0;32m~/opt/anaconda3/lib/python3.9/site-packages/IPython/core/magics/execution.py\u001b[0m in \u001b[0;36mrun\u001b[0;34m(self, parameter_s, runner, file_finder)\u001b[0m\n\u001b[1;32m    722\u001b[0m             \u001b[0;32mwith\u001b[0m \u001b[0mpreserve_keys\u001b[0m\u001b[0;34m(\u001b[0m\u001b[0mself\u001b[0m\u001b[0;34m.\u001b[0m\u001b[0mshell\u001b[0m\u001b[0;34m.\u001b[0m\u001b[0muser_ns\u001b[0m\u001b[0;34m,\u001b[0m \u001b[0;34m'__file__'\u001b[0m\u001b[0;34m)\u001b[0m\u001b[0;34m:\u001b[0m\u001b[0;34m\u001b[0m\u001b[0;34m\u001b[0m\u001b[0m\n\u001b[1;32m    723\u001b[0m                 \u001b[0mself\u001b[0m\u001b[0;34m.\u001b[0m\u001b[0mshell\u001b[0m\u001b[0;34m.\u001b[0m\u001b[0muser_ns\u001b[0m\u001b[0;34m[\u001b[0m\u001b[0;34m'__file__'\u001b[0m\u001b[0;34m]\u001b[0m \u001b[0;34m=\u001b[0m \u001b[0mfilename\u001b[0m\u001b[0;34m\u001b[0m\u001b[0;34m\u001b[0m\u001b[0m\n\u001b[0;32m--> 724\u001b[0;31m                 \u001b[0mself\u001b[0m\u001b[0;34m.\u001b[0m\u001b[0mshell\u001b[0m\u001b[0;34m.\u001b[0m\u001b[0msafe_execfile_ipy\u001b[0m\u001b[0;34m(\u001b[0m\u001b[0mfilename\u001b[0m\u001b[0;34m,\u001b[0m \u001b[0mraise_exceptions\u001b[0m\u001b[0;34m=\u001b[0m\u001b[0;32mTrue\u001b[0m\u001b[0;34m)\u001b[0m\u001b[0;34m\u001b[0m\u001b[0;34m\u001b[0m\u001b[0m\n\u001b[0m\u001b[1;32m    725\u001b[0m             \u001b[0;32mreturn\u001b[0m\u001b[0;34m\u001b[0m\u001b[0;34m\u001b[0m\u001b[0m\n\u001b[1;32m    726\u001b[0m \u001b[0;34m\u001b[0m\u001b[0m\n",
      "\u001b[0;32m~/opt/anaconda3/lib/python3.9/site-packages/IPython/core/interactiveshell.py\u001b[0m in \u001b[0;36msafe_execfile_ipy\u001b[0;34m(self, fname, shell_futures, raise_exceptions)\u001b[0m\n\u001b[1;32m   2836\u001b[0m                     \u001b[0mresult\u001b[0m \u001b[0;34m=\u001b[0m \u001b[0mself\u001b[0m\u001b[0;34m.\u001b[0m\u001b[0mrun_cell\u001b[0m\u001b[0;34m(\u001b[0m\u001b[0mcell\u001b[0m\u001b[0;34m,\u001b[0m \u001b[0msilent\u001b[0m\u001b[0;34m=\u001b[0m\u001b[0;32mTrue\u001b[0m\u001b[0;34m,\u001b[0m \u001b[0mshell_futures\u001b[0m\u001b[0;34m=\u001b[0m\u001b[0mshell_futures\u001b[0m\u001b[0;34m)\u001b[0m\u001b[0;34m\u001b[0m\u001b[0;34m\u001b[0m\u001b[0m\n\u001b[1;32m   2837\u001b[0m                     \u001b[0;32mif\u001b[0m \u001b[0mraise_exceptions\u001b[0m\u001b[0;34m:\u001b[0m\u001b[0;34m\u001b[0m\u001b[0;34m\u001b[0m\u001b[0m\n\u001b[0;32m-> 2838\u001b[0;31m                         \u001b[0mresult\u001b[0m\u001b[0;34m.\u001b[0m\u001b[0mraise_error\u001b[0m\u001b[0;34m(\u001b[0m\u001b[0;34m)\u001b[0m\u001b[0;34m\u001b[0m\u001b[0;34m\u001b[0m\u001b[0m\n\u001b[0m\u001b[1;32m   2839\u001b[0m                     \u001b[0;32melif\u001b[0m \u001b[0;32mnot\u001b[0m \u001b[0mresult\u001b[0m\u001b[0;34m.\u001b[0m\u001b[0msuccess\u001b[0m\u001b[0;34m:\u001b[0m\u001b[0;34m\u001b[0m\u001b[0;34m\u001b[0m\u001b[0m\n\u001b[1;32m   2840\u001b[0m                         \u001b[0;32mbreak\u001b[0m\u001b[0;34m\u001b[0m\u001b[0;34m\u001b[0m\u001b[0m\n",
      "\u001b[0;32m~/opt/anaconda3/lib/python3.9/site-packages/IPython/core/interactiveshell.py\u001b[0m in \u001b[0;36mraise_error\u001b[0;34m(self)\u001b[0m\n\u001b[1;32m    330\u001b[0m             \u001b[0;32mraise\u001b[0m \u001b[0mself\u001b[0m\u001b[0;34m.\u001b[0m\u001b[0merror_before_exec\u001b[0m\u001b[0;34m\u001b[0m\u001b[0;34m\u001b[0m\u001b[0m\n\u001b[1;32m    331\u001b[0m         \u001b[0;32mif\u001b[0m \u001b[0mself\u001b[0m\u001b[0;34m.\u001b[0m\u001b[0merror_in_exec\u001b[0m \u001b[0;32mis\u001b[0m \u001b[0;32mnot\u001b[0m \u001b[0;32mNone\u001b[0m\u001b[0;34m:\u001b[0m\u001b[0;34m\u001b[0m\u001b[0;34m\u001b[0m\u001b[0m\n\u001b[0;32m--> 332\u001b[0;31m             \u001b[0;32mraise\u001b[0m \u001b[0mself\u001b[0m\u001b[0;34m.\u001b[0m\u001b[0merror_in_exec\u001b[0m\u001b[0;34m\u001b[0m\u001b[0;34m\u001b[0m\u001b[0m\n\u001b[0m\u001b[1;32m    333\u001b[0m \u001b[0;34m\u001b[0m\u001b[0m\n\u001b[1;32m    334\u001b[0m     \u001b[0;32mdef\u001b[0m \u001b[0m__repr__\u001b[0m\u001b[0;34m(\u001b[0m\u001b[0mself\u001b[0m\u001b[0;34m)\u001b[0m\u001b[0;34m:\u001b[0m\u001b[0;34m\u001b[0m\u001b[0;34m\u001b[0m\u001b[0m\n",
      "    \u001b[0;31m[... skipping hidden 1 frame]\u001b[0m\n",
      "\u001b[0;32m/var/folders/74/vnxhv4vj1_db3p8d3kn4d6zw0000gn/T/ipykernel_60338/3281936560.py\u001b[0m in \u001b[0;36m<module>\u001b[0;34m\u001b[0m\n\u001b[1;32m      2\u001b[0m \u001b[0;32mimport\u001b[0m \u001b[0mos\u001b[0m\u001b[0;34m,\u001b[0m \u001b[0msys\u001b[0m\u001b[0;34m\u001b[0m\u001b[0;34m\u001b[0m\u001b[0m\n\u001b[1;32m      3\u001b[0m \u001b[0;32mimport\u001b[0m \u001b[0mnumpy\u001b[0m \u001b[0;32mas\u001b[0m \u001b[0mnp\u001b[0m\u001b[0;34m\u001b[0m\u001b[0;34m\u001b[0m\u001b[0m\n\u001b[0;32m----> 4\u001b[0;31m \u001b[0;32mfrom\u001b[0m \u001b[0mhexmap\u001b[0m\u001b[0;34m.\u001b[0m\u001b[0mplot_summary\u001b[0m \u001b[0;32mimport\u001b[0m \u001b[0;34m*\u001b[0m\u001b[0;34m\u001b[0m\u001b[0;34m\u001b[0m\u001b[0m\n\u001b[0m\u001b[1;32m      5\u001b[0m \u001b[0;34m\u001b[0m\u001b[0m\n\u001b[1;32m      6\u001b[0m \u001b[0;32mclass\u001b[0m \u001b[0mHeightPlotter\u001b[0m\u001b[0;34m:\u001b[0m\u001b[0;34m\u001b[0m\u001b[0;34m\u001b[0m\u001b[0m\n",
      "\u001b[0;31mModuleNotFoundError\u001b[0m: No module named 'hexmap.plot_summary'"
     ]
    }
   ],
   "source": [
    "%run utils/HeightPlotter.ipynb\n",
    "%autoreload 2\n",
    "\n",
    "if sensor.exists:\n",
    "    if len(sensorP1.hgts):\n",
    "        label = senDF.name + ' P1'\n",
    "        senPlotP1 = HeightPlotter(sensorP1.hgts, sensorP1.hXY, senDF.name + '_P1', senDF.dir + '/', label)\n",
    "        senPlotP1.padMapping()\n",
    "    \n",
    "    if len(sensorP2.hgts):\n",
    "        label = senDF.name + ' P2'\n",
    "        senPlotP2 = HeightPlotter(sensorP2.hgts, sensorP2.hXY, senDF.name + '_P2', senDF.dir + '/', label)\n",
    "        senPlotP2.padMapping()\n",
    "\n",
    "if pcb.exists:\n",
    "    if len(pcbP1.hgts):\n",
    "        label = pcbDF.name + ' P1'\n",
    "        pcbPlotP1 = HeightPlotter(pcbP1.hgts, pcbP1.hXY, pcbDF.name + '_P1', pcbDF.dir + '/', label)\n",
    "        pcbPlotP1.padMapping()\n",
    "        \n",
    "    if len(pcbP2.hgts):\n",
    "        label = pcbDF.name + ' P2'\n",
    "        pcbPlotP2 = HeightPlotter(pcbP2.hgts, pcbP2.hXY, pcbDF.name + '_P2', pcbDF.dir + '/', label)\n",
    "        pcbPlotP2.padMapping()\n",
    "        \n",
    "if survey.exists:\n",
    "    if len(surveyComp.hgts):\n",
    "        label = surveyDF.name + ' Survey'\n",
    "        surveyPlot = HeightPlotter(surveyComp.hgts, surveyComp.hXY, surveyDF.name + '_survey', surveyDF.dir + '/', label)\n",
    "        surveyPlot.padMapping()"
   ]
  },
  {
   "cell_type": "code",
   "execution_count": null,
   "id": "960e72ac",
   "metadata": {},
   "outputs": [],
   "source": []
  },
  {
   "cell_type": "code",
   "execution_count": null,
   "id": "bada70e8",
   "metadata": {},
   "outputs": [],
   "source": []
  }
 ],
 "metadata": {
  "kernelspec": {
   "display_name": "Python 3 (ipykernel)",
   "language": "python",
   "name": "python3"
  },
  "language_info": {
   "codemirror_mode": {
    "name": "ipython",
    "version": 3
   },
   "file_extension": ".py",
   "mimetype": "text/x-python",
   "name": "python",
   "nbconvert_exporter": "python",
   "pygments_lexer": "ipython3",
   "version": "3.9.7"
  }
 },
 "nbformat": 4,
 "nbformat_minor": 5
}
