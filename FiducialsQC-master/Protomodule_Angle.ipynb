{
 "cells": [
  {
   "cell_type": "code",
   "execution_count": null,
   "metadata": {
    "id": "U9jyEC26QrGc"
   },
   "outputs": [],
   "source": [
    "import numpy as np\n",
    "import xlrd"
   ]
  },
  {
   "cell_type": "code",
   "execution_count": null,
   "metadata": {
    "id": "JQtQUCsdRIXs"
   },
   "outputs": [],
   "source": [
    "# This part of code was modified to be used in TransformCoordinates.ipynb\n",
    "      # Calculate the angle between the tray and fiducial frames -JY\n",
    "def vector(self,tup):\n",
    "        if np.array(tup).size == 2:\n",
    "          return [tup[0],tup[1]]\n",
    "        else:\n",
    "          return [tup[1][0]-tup[0][0],tup[1][1]-tup[0][1]]\n",
    "        \n",
    "def angleOfFrame(self, Fiducial, baseplate): # Should switch Fiducial and baseplate???\n",
    "        f=self.vector(Fiducial)\n",
    "        b=self.vector(baseplate)\n",
    "        unit_f=f/np.linalg.norm(f)\n",
    "        unit_b=b/np.linalg.norm(b)\n",
    "        dot_product=np.dot(unit_f,unit_b)\n",
    "        angle=np.arccos(dot_product)\n",
    "        return angle                  "
   ]
  },
  {
   "cell_type": "code",
   "execution_count": null,
   "metadata": {
    "id": "b3OkRGgSRNiM"
   },
   "outputs": [],
   "source": [
    "def read_file(loc,sheetname):\n",
    "  wb=xlrd.open_workbook(loc)\n",
    "\n",
    "def angletoTray(position,number1=0,number2=2):\n",
    "  vector1=(globals()[f\"{position}\"])[number1]\n",
    "  vector2=(globals()[f\"{position}\"])[number2]\n",
    "  vector=vector1-vector2\n",
    "  print(vector1,vector2,vector)\n",
    "  unit_vector=vector/np.linalg.norm(vector)\n",
    "  tray=[0,1]\n",
    "  unit_tray=tray/np.linalg.norm(tray)\n",
    "  dot_product=np.dot(unit_vector,unit_tray)\n",
    "  angle=np.degrees(np.arccos(dot_product))\n",
    "  #print(dot_product)\n",
    "  angle_arctan=np.degrees(np.arctan(vector[0]/vector[1]))\n",
    "  print(\"angle calculated from single vector by arctan is \",angle_arctan)\n",
    "  print(\"angle calculated from two vectors by arccos is \", angle)\n",
    "  #return np.degrees(angle)"
   ]
  },
  {
   "cell_type": "code",
   "execution_count": null,
   "metadata": {
    "id": "zbFpOo6vR1XH"
   },
   "outputs": [],
   "source": [
    "read_file(\"/content/drive/MyDrive/HGCAL/Protomodule/protomodule center.xls\",\"sheet_center\")\n",
    "read_file(\"/content/drive/MyDrive/HGCAL/Protomodule/protomodule rotate left.xls\",\"sheet_left\")\n",
    "read_file(\"/content/drive/MyDrive/HGCAL/Protomodule/protomodule rotate right.xls\",\"sheet_right\")"
   ]
  },
  {
   "cell_type": "code",
   "execution_count": null,
   "metadata": {
    "id": "IFD7nugGSSFw"
   },
   "outputs": [],
   "source": [
    "FDs=[sheet_center.cell_value(8+i*4,2) for i in range(4)]\n",
    "positions=[\"center\",\"left\",\"right\"]"
   ]
  },
  {
   "cell_type": "code",
   "execution_count": null,
   "metadata": {
    "id": "v4Sxou-OSn-p"
   },
   "outputs": [],
   "source": [
    "for i in positions:\n",
    "  globals()[f\"{i}\"]=np.zeros((4,2))\n",
    "  for j in range(len(FDs)):\n",
    "    globals()[f\"{i}\"][j][0]=float(globals()[f\"sheet_{i}\"].cell_value(8+j*4,5))\n",
    "    globals()[f\"{i}\"][j][1]=float(globals()[f\"sheet_{i}\"].cell_value(9+j*4,5))"
   ]
  },
  {
   "cell_type": "code",
   "execution_count": null,
   "metadata": {
    "colab": {
     "base_uri": "https://localhost:8080/"
    },
    "id": "4RMQY4WNUqcM",
    "outputId": "95a14772-927b-45f2-efc4-0d8b1c511aec"
   },
   "outputs": [
    {
     "name": "stdout",
     "output_type": "stream",
     "text": [
      "[136.43  351.825] [137.285 169.04 ] [ -0.855 182.785]\n",
      "angle calculated from single vector by arctan is  -0.2680063145237439\n",
      "angle calculated from two vectors by arccos is  0.2680063145222764\n"
     ]
    }
   ],
   "source": [
    "angletoTray(\"center\") # Need to add some codes to take care of sign when using arccos"
   ]
  },
  {
   "cell_type": "code",
   "execution_count": null,
   "metadata": {
    "colab": {
     "base_uri": "https://localhost:8080/"
    },
    "id": "U0PAab83WBzL",
    "outputId": "7a55c60e-9956-47ce-b3c4-56c8dbfb6fb3"
   },
   "outputs": [
    {
     "name": "stdout",
     "output_type": "stream",
     "text": [
      "[140.188 354.926] [133.272 172.27 ] [  6.916 182.656]\n",
      "angle calculated from single vector by arctan is  2.16838433660531\n",
      "angle calculated from two vectors by arccos is  2.168384336605344\n"
     ]
    }
   ],
   "source": [
    "angletoTray(\"left\") # Clockwise rotation"
   ]
  },
  {
   "cell_type": "code",
   "execution_count": null,
   "metadata": {
    "colab": {
     "base_uri": "https://localhost:8080/"
    },
    "id": "f3CT3HcCWsi3",
    "outputId": "62434e1a-422c-45b1-b148-0eab7e3aa986"
   },
   "outputs": [
    {
     "name": "stdout",
     "output_type": "stream",
     "text": [
      "[131.872 347.642] [142.399 165.158] [-10.527 182.484]\n",
      "angle calculated from single vector by arctan is  -3.301576810878507\n",
      "angle calculated from two vectors by arccos is  3.3015768108785077\n"
     ]
    }
   ],
   "source": [
    "angletoTray(\"right\") # Counterclockwise rotation"
   ]
  },
  {
   "cell_type": "code",
   "execution_count": null,
   "metadata": {
    "id": "mgD-gPMJX476"
   },
   "outputs": [],
   "source": []
  }
 ],
 "metadata": {
  "colab": {
   "name": "Protomodule Angle.ipynb",
   "provenance": []
  },
  "kernelspec": {
   "display_name": "Python 3 (ipykernel)",
   "language": "python",
   "name": "python3"
  },
  "language_info": {
   "codemirror_mode": {
    "name": "ipython",
    "version": 3
   },
   "file_extension": ".py",
   "mimetype": "text/x-python",
   "name": "python",
   "nbconvert_exporter": "python",
   "pygments_lexer": "ipython3",
   "version": "3.9.7"
  }
 },
 "nbformat": 4,
 "nbformat_minor": 1
}
