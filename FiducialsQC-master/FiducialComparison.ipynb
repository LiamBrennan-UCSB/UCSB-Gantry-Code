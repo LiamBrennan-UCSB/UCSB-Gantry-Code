{
 "cells": [
  {
   "cell_type": "code",
   "execution_count": 77,
   "id": "b131633c",
   "metadata": {},
   "outputs": [
    {
     "name": "stdout",
     "output_type": "stream",
     "text": [
      "The autoreload extension is already loaded. To reload it, use:\n",
      "  %reload_ext autoreload\n",
      "/Users/lbrennan/Documents/Research/Coding/FiducialsQC-master\n"
     ]
    }
   ],
   "source": [
    "%load_ext autoreload\n",
    "import os\n",
    "workDir = os.getcwd()\n",
    "user = 'testID' #CERN user ID\n",
    "institution = 'UCSB' #UCSB\n",
    "print(workDir)"
   ]
  },
  {
   "cell_type": "code",
   "execution_count": 78,
   "id": "b7bc9a7b",
   "metadata": {},
   "outputs": [
    {
     "name": "stdout",
     "output_type": "stream",
     "text": [
      "    Unnamed: 0 Unnamed: 1         Unnamed: 2 Unnamed: 3 Unnamed: 4 Unnamed: 5  \\\n",
      "3          NaN   Routine1             mm  Ɵ°        NaN        NaN        NaN   \n",
      "6          NaN        NaN            Feature  Attribute    Nominal     Actual   \n",
      "7          NaN        NaN  P1SensorFiducial1          X    137.141    136.874   \n",
      "8          NaN        NaN                NaN          Y    180.772    180.514   \n",
      "11         NaN        NaN  P1SensorFiducial2          X    136.789    137.183   \n",
      "12         NaN        NaN                NaN          Y    340.770    340.544   \n",
      "15         NaN        NaN  P1SensorFiducial3          X     56.917     57.123   \n",
      "16         NaN        NaN                NaN          Y    295.600    295.670   \n",
      "19         NaN        NaN  P1SensorFiducial4          X    217.002    216.919   \n",
      "20         NaN        NaN                NaN          Y    225.929    225.363   \n",
      "\n",
      "    Unnamed: 6  Unnamed: 7 Unnamed: 8  \n",
      "3          NaN         NaN        NaN  \n",
      "6   Upper Tol.  Lower Tol.   Graphics  \n",
      "7        0.000       0.000        NaN  \n",
      "8        0.000       0.000        NaN  \n",
      "11       0.000       0.000        NaN  \n",
      "12       0.000       0.000        NaN  \n",
      "15       0.000       0.000        NaN  \n",
      "16       0.000       0.000        NaN  \n",
      "19       0.000       0.000        NaN  \n",
      "20       0.000       0.000        NaN  \n",
      "Using this file: /Users/lbrennan/Documents/Research/Coding/FiducialsQC-master/data/8-22DataReFormattedLDV3Run5.xls\n",
      "This is PCB:     Unnamed: 0 Unnamed: 1 Unnamed: 2 Unnamed: 3 Unnamed: 4 Unnamed: 5  \\\n",
      "3          NaN   Routine1     mm  Ɵ°        NaN        NaN        NaN   \n",
      "10         NaN        NaN    Feature  Attribute    Nominal     Actual   \n",
      "11         NaN        NaN    FDthree          X    137.141    136.848   \n",
      "12         NaN        NaN        NaN          Y    180.772    180.576   \n",
      "15         NaN        NaN      FDsix          X    136.789    137.210   \n",
      "\n",
      "    Unnamed: 6  Unnamed: 7 Unnamed: 8  \n",
      "3          NaN         NaN        NaN  \n",
      "10  Upper Tol.  Lower Tol.   Graphics  \n",
      "11       0.000       0.000        NaN  \n",
      "12       0.000       0.000        NaN  \n",
      "15       0.000       0.000        NaN  \n"
     ]
    }
   ],
   "source": [
    "%run utils/GetExcel.ipynb\n",
    "\n",
    "#The sensor file can contain the fiducials of the sensor, but can also have the \n",
    "#component heights for sensor in location P1 or P2.\n",
    "#Methods can run either way! \n",
    "\n",
    "#pcbfile = workDir + '/data/8.18-DryRun1Try3.xls'\n",
    "#pcbfile = workDir + '/data/LDV3D12_protomodule.xls'\n",
    "fiducialfile = workDir + '/data/GantryTrayFiducialData.xls'\n",
    "##fiducialfile = workDir + '/data/8.4.22test.xls'\n",
    "#sensorfile = workDir + '/data/sensorfiducialtrialrun.xls'\n",
    "##sensorfile = workDir + '/data/8.4.22negyccw.xls'\n",
    "sensorfile = workDir + '/data/8-22DataReFormattedLDV3Run5.xls'\n",
    "surveyfile = workDir + '/data/8-22DataReFormattedLDV3Run5.xls'\n",
    "#surveyfile = workDir + '/data/LDV3D12_protomodule.xls'\n",
    "\n",
    "\n",
    "survey = GetExcel(surveyfile)\n",
    "survey.read()\n",
    "print(survey.df)\n",
    "\n",
    "sensor = GetExcel(sensorfile)\n",
    "sensor.read()\n",
    "#print(\"This is sensor\", sensor.df.tail())\n",
    "print(\"Using this file:\", sensorfile)\n",
    "\n",
    "fiducial = GetExcel(fiducialfile)\n",
    "fiducial.read()\n",
    "#print(fiducial.df.head())\n",
    "\n",
    "pcb = GetExcel(pcbfile)\n",
    "pcb.read()\n",
    "print(\"This is PCB:\", pcb.df.head())"
   ]
  },
  {
   "cell_type": "code",
   "execution_count": 79,
   "id": "c93dd7a0",
   "metadata": {},
   "outputs": [
    {
     "name": "stdout",
     "output_type": "stream",
     "text": [
      "This is Actual: Unnamed: 5\n",
      "[(136.874, 180.514), (137.183, 340.544), (57.123, 295.67), (216.919, 225.363)]\n",
      "This is Actual: Unnamed: 5\n"
     ]
    }
   ],
   "source": [
    "%run utils/ReadDataframe.ipynb\n",
    "%autoreload 2\n",
    "\n",
    "if sensor.exists:\n",
    "    senDF = ReadDataframe(sensor.df, sensorfile)\n",
    "    senDF.readComponentFiducials()\n",
    "    senDF.readComponentHeights()\n",
    "\n",
    "if fiducial.exists:\n",
    "    fidDF = ReadDataframe(fiducial.df, fiducialfile)\n",
    "    fidDF.readTrayFiducials()\n",
    "\n",
    "if pcb.exists:\n",
    "    pcbDF = ReadDataframe(pcb.df, pcbfile)\n",
    "    pcbDF.readComponentFiducials()\n",
    "    pcbDF.readComponentHeights()\n",
    "    \n",
    "if survey.exists:\n",
    "    surveyDF = ReadDataframe(survey.df, surveyfile)\n",
    "    surveyDF.readComponentHeights()"
   ]
  },
  {
   "cell_type": "code",
   "execution_count": 80,
   "id": "a31fbdbd",
   "metadata": {},
   "outputs": [
    {
     "name": "stdout",
     "output_type": "stream",
     "text": [
      "This is self.points: [[ 57.123 295.67 ]\n",
      " [136.874 180.514]\n",
      " [137.183 340.544]\n",
      " [216.919 225.363]]\n",
      "[(0.0, 0.0), (0.001, 355.043)]\n",
      "[(137.03, 260.598), (62.131, 260.471)]\n",
      "This is theta: 0.0\n",
      "This is self.position: [(137.03, 260.598), (62.131, 260.471)]\n",
      "This is self.newpoints: [[-79.907  35.072]\n",
      " [ -0.156 -80.084]\n",
      " [  0.153  79.946]\n",
      " [ 79.889 -35.235]]\n",
      "This is self.newpoints[0][1] 35.072\n",
      "This is self.newpoints[1][1] -80.084\n",
      "This is self.newpoints[0][0] -79.90700000000001\n",
      "This is self.newpoints[1][0] -0.1560000000000059\n",
      "[-0.00525 -0.07525]\n",
      "This is self.deg: [124.70444073793378, 124.69357561753583]\n",
      "\u001b[30mThe module/component in P1 has completed QC!\n",
      "Rotation --> Left Fiducial: 124.704 degrees, Right Fiducial: 124.694 degrees\n",
      "The angle of the sensor in position P1 is \u001b[31mRED\u001b[30m. \n",
      "Placement --> (x,y) = (-0.005, -0.075) mm\n",
      "The placement of the sensor in position P1 is \u001b[33mYELLOW\u001b[30m. \n",
      "\n",
      "The FINAL rating of the module in position P1 is \u001b[31mRED\u001b[30m.\n",
      "\n",
      "[(0.0, 0.0), (0.001, 355.043)]\n",
      "[(137.03, 260.598), (62.131, 260.471)]\n",
      "This is theta: -1.5707963267948966\n",
      "This is self.position: [(137.03, 260.598), (62.131, 260.471)]\n",
      "\u001b[30mThe module/component in P1 has completed QC!\n",
      "Height --> 3.144 - (0.034) + (0.044) mm\n",
      "The minimum difference in height of the module in position P1 is \u001b[32mGREEN\u001b[30m. \n",
      "The maximum difference in height of the module in position P1 is \u001b[32mGREEN\u001b[30m. \n",
      "The mean heights of the module in position P1 are \u001b[31mRED\u001b[30m. \n",
      "\n",
      "The FINAL rating of the module in position P1 is \u001b[31mRED\u001b[30m.\n",
      "\n",
      "\u001b[30mThe module/component in P2 has completed QC!\n",
      "\n",
      "The FINAL rating of the module in position P2 is \u001b[35mNO INFO\u001b[30m.\n",
      "\n"
     ]
    }
   ],
   "source": [
    "%run utils/QualityControl.ipynb\n",
    "%autoreload 2\n",
    "\n",
    "if sensor.exists:\n",
    "    sensorP1 = QualityControl(fidDF, senDF, 'P1', False)\n",
    "    if len(senDF.pointsP1): sensorP1.runTransform()\n",
    "    if len(senDF.heightP1): sensorP1.runHeights()\n",
    "    sensorP1.rating()\n",
    "    print(sensorP1)\n",
    "\n",
    "#    sensorP2 = QualityControl(fidDF, senDF, 'P2', False)\n",
    "#    if len(senDF.pointsP2): sensorP2.runTransform()\n",
    "#    if len(senDF.heightP2): sensorP2.runHeights()\n",
    "#    sensorP2.rating()\n",
    "#    print(sensorP2)\n",
    "    \n",
    "if pcb.exists:\n",
    "    pcbP1 = QualityControl(fidDF, pcbDF, 'P1', True)\n",
    "    if len(pcbDF.pointsP1): pcbP1.runTransform()\n",
    "    if len(pcbDF.heightP1): pcbP1.runHeights()\n",
    "    pcbP1.rating()\n",
    "    print(pcbP1)\n",
    "\n",
    "    pcbP2 = QualityControl(fidDF, pcbDF, 'P2', True)\n",
    "    if len(pcbDF.pointsP2): pcbP2.runTransform()\n",
    "    if len(pcbDF.heightP2): pcbP2.runHeights()\n",
    "    pcbP2.rating()\n",
    "    print(pcbP2)\n",
    "    \n",
    "if survey.exists:\n",
    "    surveyComp = QualityControl(fidDF, surveyDF, 'Survey', False, True)\n",
    "    if len(surveyDF.heightP1): surveyComp.runHeights()"
   ]
  },
  {
   "cell_type": "code",
   "execution_count": 81,
   "id": "fc917f93",
   "metadata": {},
   "outputs": [
    {
     "name": "stdout",
     "output_type": "stream",
     "text": [
      "Saving UPLOAD XML file to  /Users/lbrennan/Documents/Research/Coding/FiducialsQC-master/data/8-22DataReFormattedLDV3Run5_P1_upload.xml\n"
     ]
    },
    {
     "ename": "NameError",
     "evalue": "name 'sensorP2' is not defined",
     "output_type": "error",
     "traceback": [
      "\u001b[0;31m---------------------------------------------------------------------------\u001b[0m",
      "\u001b[0;31mNameError\u001b[0m                                 Traceback (most recent call last)",
      "\u001b[0;32m/var/folders/74/vnxhv4vj1_db3p8d3kn4d6zw0000gn/T/ipykernel_21875/4030058484.py\u001b[0m in \u001b[0;36m<module>\u001b[0;34m\u001b[0m\n\u001b[1;32m      7\u001b[0m         \u001b[0msensorP1XML\u001b[0m\u001b[0;34m.\u001b[0m\u001b[0msave\u001b[0m\u001b[0;34m(\u001b[0m\u001b[0msenDF\u001b[0m\u001b[0;34m.\u001b[0m\u001b[0mdir\u001b[0m\u001b[0;34m,\u001b[0m \u001b[0msenDF\u001b[0m\u001b[0;34m.\u001b[0m\u001b[0mname\u001b[0m \u001b[0;34m+\u001b[0m \u001b[0;34m'_P1.xml'\u001b[0m\u001b[0;34m)\u001b[0m\u001b[0;34m\u001b[0m\u001b[0;34m\u001b[0m\u001b[0m\n\u001b[1;32m      8\u001b[0m \u001b[0;34m\u001b[0m\u001b[0m\n\u001b[0;32m----> 9\u001b[0;31m     \u001b[0;32mif\u001b[0m \u001b[0msensorP2\u001b[0m\u001b[0;34m.\u001b[0m\u001b[0mfinalRating\u001b[0m \u001b[0;34m!=\u001b[0m \u001b[0;34m'NO INFO'\u001b[0m\u001b[0;34m:\u001b[0m\u001b[0;34m\u001b[0m\u001b[0;34m\u001b[0m\u001b[0m\n\u001b[0m\u001b[1;32m     10\u001b[0m         \u001b[0msensorP2XML\u001b[0m \u001b[0;34m=\u001b[0m \u001b[0mCreateXML\u001b[0m\u001b[0;34m(\u001b[0m\u001b[0msensorP2\u001b[0m\u001b[0;34m,\u001b[0m \u001b[0muser\u001b[0m\u001b[0;34m,\u001b[0m \u001b[0minstitution\u001b[0m\u001b[0;34m)\u001b[0m\u001b[0;34m\u001b[0m\u001b[0;34m\u001b[0m\u001b[0m\n\u001b[1;32m     11\u001b[0m         \u001b[0msensorP2XML\u001b[0m\u001b[0;34m.\u001b[0m\u001b[0msave\u001b[0m\u001b[0;34m(\u001b[0m\u001b[0msenDF\u001b[0m\u001b[0;34m.\u001b[0m\u001b[0mdir\u001b[0m\u001b[0;34m,\u001b[0m \u001b[0msenDF\u001b[0m\u001b[0;34m.\u001b[0m\u001b[0mname\u001b[0m \u001b[0;34m+\u001b[0m \u001b[0;34m'_P2.xml'\u001b[0m\u001b[0;34m)\u001b[0m\u001b[0;34m\u001b[0m\u001b[0;34m\u001b[0m\u001b[0m\n",
      "\u001b[0;31mNameError\u001b[0m: name 'sensorP2' is not defined"
     ]
    }
   ],
   "source": [
    "%run utils/CreateXML.ipynb\n",
    "%autoreload 2\n",
    "\n",
    "if sensor.exists:\n",
    "    if sensorP1.finalRating != 'NO INFO':\n",
    "        sensorP1XML = CreateXML(sensorP1, user, institution)\n",
    "        sensorP1XML.save(senDF.dir, senDF.name + '_P1.xml')\n",
    "\n",
    "    if sensorP2.finalRating != 'NO INFO':\n",
    "        sensorP2XML = CreateXML(sensorP2, user, institution)\n",
    "        sensorP2XML.save(senDF.dir, senDF.name + '_P2.xml')\n",
    "    \n",
    "if pcb.exists:\n",
    "    if pcbP1.finalRating != 'NO INFO':\n",
    "        pcbP1XML = CreateXML(pcbP1, user, institution)\n",
    "        pcbP1XML.save(pcbDF.dir, pcbDF.name + '_P1.xml')\n",
    "    \n",
    "    if pcbP2.finalRating != 'NO INFO':\n",
    "        pcbP2XML = CreateXML(pcbP2, user, institution)\n",
    "        pcbP2XML.save(pcbDF.dir, pcbDF.name + '_P2.xml')"
   ]
  },
  {
   "cell_type": "code",
   "execution_count": null,
   "id": "2b57f28b",
   "metadata": {
    "scrolled": false
   },
   "outputs": [],
   "source": [
    "%run utils/HeightPlotter.ipynb\n",
    "%autoreload 2\n",
    "\n",
    "if sensor.exists:\n",
    "    if len(sensorP1.hgts):\n",
    "        label = senDF.name + ' P1'\n",
    "        senPlotP1 = HeightPlotter(sensorP1.hgts, sensorP1.hXY, senDF.name + '_P1', senDF.dir + '/', label)\n",
    "        senPlotP1.padMapping()\n",
    "    \n",
    "    if len(sensorP2.hgts):\n",
    "        label = senDF.name + ' P2'\n",
    "        senPlotP2 = HeightPlotter(sensorP2.hgts, sensorP2.hXY, senDF.name + '_P2', senDF.dir + '/', label)\n",
    "        senPlotP2.padMapping()\n",
    "\n",
    "if pcb.exists:\n",
    "    if len(pcbP1.hgts):\n",
    "        label = pcbDF.name + ' P1'\n",
    "        pcbPlotP1 = HeightPlotter(pcbP1.hgts, pcbP1.hXY, pcbDF.name + '_P1', pcbDF.dir + '/', label)\n",
    "        pcbPlotP1.padMapping()\n",
    "        \n",
    "    if len(pcbP2.hgts):\n",
    "        label = pcbDF.name + ' P2'\n",
    "        pcbPlotP2 = HeightPlotter(pcbP2.hgts, pcbP2.hXY, pcbDF.name + '_P2', pcbDF.dir + '/', label)\n",
    "        pcbPlotP2.padMapping()\n",
    "        \n",
    "if survey.exists:\n",
    "    if len(surveyComp.hgts):\n",
    "        label = surveyDF.name + ' Survey'\n",
    "        surveyPlot = HeightPlotter(surveyComp.hgts, surveyComp.hXY, surveyDF.name + '_survey', surveyDF.dir + '/', label)\n",
    "        surveyPlot.padMapping()"
   ]
  },
  {
   "cell_type": "code",
   "execution_count": null,
   "id": "960e72ac",
   "metadata": {},
   "outputs": [],
   "source": []
  },
  {
   "cell_type": "code",
   "execution_count": null,
   "id": "fe3b6de4",
   "metadata": {},
   "outputs": [],
   "source": []
  },
  {
   "cell_type": "code",
   "execution_count": null,
   "id": "b9cb2b7e",
   "metadata": {},
   "outputs": [],
   "source": []
  }
 ],
 "metadata": {
  "kernelspec": {
   "display_name": "Python 3 (ipykernel)",
   "language": "python",
   "name": "python3"
  },
  "language_info": {
   "codemirror_mode": {
    "name": "ipython",
    "version": 3
   },
   "file_extension": ".py",
   "mimetype": "text/x-python",
   "name": "python",
   "nbconvert_exporter": "python",
   "pygments_lexer": "ipython3",
   "version": "3.9.7"
  }
 },
 "nbformat": 4,
 "nbformat_minor": 5
}
